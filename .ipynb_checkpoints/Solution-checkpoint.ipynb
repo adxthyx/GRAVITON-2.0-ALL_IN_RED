{
 "cells": [
  {
   "cell_type": "code",
   "execution_count": 1,
   "metadata": {},
   "outputs": [
    {
     "name": "stdout",
     "output_type": "stream",
     "text": [
      "Once deleted, variables cannot be recovered. Proceed (y/[n])? y\n"
     ]
    }
   ],
   "source": [
    "# To clean enviroment variables \n",
    "%reset"
   ]
  },
  {
   "cell_type": "code",
   "execution_count": 3,
   "metadata": {},
   "outputs": [
    {
     "name": "stdout",
     "output_type": "stream",
     "text": [
      "Defaulting to user installation because normal site-packages is not writeable\n"
     ]
    },
    {
     "name": "stderr",
     "output_type": "stream",
     "text": [
      "WARNING: Ignoring invalid distribution -ensorflow-intel (c:\\users\\gowda\\appdata\\roaming\\python\\python310\\site-packages)\n",
      "WARNING: Ignoring invalid distribution -ensorflow-intel (c:\\users\\gowda\\appdata\\roaming\\python\\python310\\site-packages)\n",
      "ERROR: Could not find a version that satisfies the requirement qiskit_optimizer (from versions: none)\n",
      "ERROR: No matching distribution found for qiskit_optimizer\n",
      "WARNING: Ignoring invalid distribution -ensorflow-intel (c:\\users\\gowda\\appdata\\roaming\\python\\python310\\site-packages)\n",
      "WARNING: Ignoring invalid distribution -ensorflow-intel (c:\\users\\gowda\\appdata\\roaming\\python\\python310\\site-packages)\n",
      "WARNING: Ignoring invalid distribution -ensorflow-intel (c:\\users\\gowda\\appdata\\roaming\\python\\python310\\site-packages)\n"
     ]
    }
   ],
   "source": [
    "!pip install qiskit_optimizer"
   ]
  },
  {
   "cell_type": "markdown",
   "metadata": {},
   "source": [
    "## Classical Solution"
   ]
  },
  {
   "cell_type": "code",
   "execution_count": 2,
   "metadata": {},
   "outputs": [
    {
     "ename": "ImportError",
     "evalue": "cannot import name 'algorithm_globals' from 'qiskit.utils' (C:\\Users\\gowda\\AppData\\Roaming\\Python\\Python310\\site-packages\\qiskit\\utils\\__init__.py)",
     "output_type": "error",
     "traceback": [
      "\u001b[1;31m---------------------------------------------------------------------------\u001b[0m",
      "\u001b[1;31mImportError\u001b[0m                               Traceback (most recent call last)",
      "Cell \u001b[1;32mIn[2], line 13\u001b[0m\n\u001b[0;32m     10\u001b[0m     \u001b[38;5;28mprint\u001b[39m(\u001b[38;5;124m\"\u001b[39m\u001b[38;5;124mWarning: Cplex not found.\u001b[39m\u001b[38;5;124m\"\u001b[39m)\n\u001b[0;32m     11\u001b[0m \u001b[38;5;28;01mimport\u001b[39;00m \u001b[38;5;21;01mmath\u001b[39;00m\n\u001b[1;32m---> 13\u001b[0m \u001b[38;5;28;01mfrom\u001b[39;00m \u001b[38;5;21;01mqiskit\u001b[39;00m\u001b[38;5;21;01m.\u001b[39;00m\u001b[38;5;21;01mutils\u001b[39;00m \u001b[38;5;28;01mimport\u001b[39;00m algorithm_globals\n\u001b[0;32m     14\u001b[0m \u001b[38;5;28;01mfrom\u001b[39;00m \u001b[38;5;21;01mqiskit_algorithms\u001b[39;00m \u001b[38;5;28;01mimport\u001b[39;00m SamplingVQE\n\u001b[0;32m     15\u001b[0m \u001b[38;5;28;01mfrom\u001b[39;00m \u001b[38;5;21;01mqiskit_algorithms\u001b[39;00m\u001b[38;5;21;01m.\u001b[39;00m\u001b[38;5;21;01moptimizers\u001b[39;00m \u001b[38;5;28;01mimport\u001b[39;00m SPSA\n",
      "\u001b[1;31mImportError\u001b[0m: cannot import name 'algorithm_globals' from 'qiskit.utils' (C:\\Users\\gowda\\AppData\\Roaming\\Python\\Python310\\site-packages\\qiskit\\utils\\__init__.py)"
     ]
    }
   ],
   "source": [
    "import numpy as np\n",
    "import pandas as pd\n",
    "import folium\n",
    "import matplotlib.pyplot as plt\n",
    "\n",
    "try:\n",
    "    import cplex\n",
    "    from cplex.exceptions import CplexError\n",
    "except:\n",
    "    print(\"Warning: Cplex not found.\")\n",
    "import math\n",
    "\n",
    "from qiskit.utils import algorithm_globals\n",
    "from qiskit_algorithms import SamplingVQE\n",
    "from qiskit_algorithms.optimizers import SPSA\n",
    "from qiskit.circuit.library import RealAmplitudes\n",
    "from qiskit.primitives import Sampler"
   ]
  },
  {
   "cell_type": "markdown",
   "metadata": {},
   "source": [
    "### Clean dataset"
   ]
  },
  {
   "cell_type": "code",
   "execution_count": null,
   "metadata": {},
   "outputs": [],
   "source": [
    "df = pd.read_csv(\"uscities.csv\")\n",
    "columnsNeeded = [\"city\", \"lat\", \"lng\"]\n",
    "# Inicialization of variables\n",
    "locationsNumber = 15 # OJO que en local me crashea si sobrepaso 5\n",
    "\n",
    "coordenatesDf = df[columnsNeeded].iloc[:locationsNumber]\n",
    "n = coordenatesDf.shape[0]  # number of nodes + depot (n+1)\n",
    "K = 3  # number of vehicles\n",
    "\n",
    "print(coordenatesDf)"
   ]
  },
  {
   "cell_type": "code",
   "execution_count": null,
   "metadata": {},
   "outputs": [],
   "source": [
    "# Initialize instance values by calculate the squared Euclidean distances between a set of coordinates\n",
    "#  represented in the dataframe.\n",
    "\n",
    "def generate_instance(coordenatesDf):\n",
    "    n = coordenatesDf.shape[0]\n",
    "    \n",
    "    xc = coordenatesDf[\"lat\"]\n",
    "    yc = coordenatesDf[\"lng\"]\n",
    "    loc = coordenatesDf[\"city\"]\n",
    "    instance = np.zeros([n, n])\n",
    "    for ii in range(0, n):\n",
    "        for jj in range(ii + 1, n):\n",
    "            instance[ii, jj] = (xc[ii] - xc[jj]) ** 2 + (yc[ii] - yc[jj]) ** 2\n",
    "            instance[jj, ii] = instance[ii, jj]\n",
    "    return xc, yc, instance, loc"
   ]
  },
  {
   "cell_type": "code",
   "execution_count": null,
   "metadata": {},
   "outputs": [],
   "source": [
    "# Initialize the problem by randomly generating the instance\n",
    "lat, lng, instance, loc = generate_instance(coordenatesDf)\n",
    "\n",
    "print(lat, lng, loc, instance)"
   ]
  },
  {
   "cell_type": "code",
   "execution_count": null,
   "metadata": {},
   "outputs": [],
   "source": [
    "#print(instance)"
   ]
  },
  {
   "cell_type": "markdown",
   "metadata": {},
   "source": [
    "### -------------------- Classical solution using IBM ILOG CPLEX --------------------"
   ]
  },
  {
   "cell_type": "code",
   "execution_count": null,
   "metadata": {},
   "outputs": [],
   "source": [
    "class ClassicalOptimizer:\n",
    "    def __init__(self, instance, n, K):\n",
    "\n",
    "        self.instance = instance\n",
    "        self.n = n  # number of nodes\n",
    "        self.K = K  # number of vehicles\n",
    "\n",
    "    def compute_allowed_combinations(self):\n",
    "        f = math.factorial\n",
    "        return f(self.n) / f(self.K) / f(self.n - self.K)\n",
    "\n",
    "    def cplex_solution(self):\n",
    "\n",
    "        # refactoring\n",
    "        instance = self.instance\n",
    "        n = self.n\n",
    "        K = self.K\n",
    "\n",
    "        my_obj = list(instance.reshape(1, n**2)[0]) + [0.0 for x in range(0, n - 1)]\n",
    "        my_ub = [1 for x in range(0, n**2 + n - 1)]\n",
    "        my_lb = [0 for x in range(0, n**2)] + [0.1 for x in range(0, n - 1)]\n",
    "        my_ctype = \"\".join([\"I\" for x in range(0, n**2)]) + \"\".join(\n",
    "            [\"C\" for x in range(0, n - 1)]\n",
    "        )\n",
    "\n",
    "        my_rhs = (\n",
    "            2 * ([K] + [1 for x in range(0, n - 1)])\n",
    "            + [1 - 0.1 for x in range(0, (n - 1) ** 2 - (n - 1))]\n",
    "            + [0 for x in range(0, n)]\n",
    "        )\n",
    "        my_sense = (\n",
    "            \"\".join([\"E\" for x in range(0, 2 * n)])\n",
    "            + \"\".join([\"L\" for x in range(0, (n - 1) ** 2 - (n - 1))])\n",
    "            + \"\".join([\"E\" for x in range(0, n)])\n",
    "        )\n",
    "\n",
    "        try:\n",
    "            my_prob = cplex.Cplex()\n",
    "            self.populatebyrow(my_prob, my_obj, my_ub, my_lb, my_ctype, my_sense, my_rhs)\n",
    "\n",
    "            my_prob.solve()\n",
    "\n",
    "        except CplexError as exc:\n",
    "            print(exc)\n",
    "            return\n",
    "\n",
    "        x = my_prob.solution.get_values()\n",
    "        x = np.array(x)\n",
    "        cost = my_prob.solution.get_objective_value()\n",
    "\n",
    "        return x, cost\n",
    "\n",
    "    def populatebyrow(self, prob, my_obj, my_ub, my_lb, my_ctype, my_sense, my_rhs):\n",
    "\n",
    "        n = self.n\n",
    "\n",
    "        prob.objective.set_sense(prob.objective.sense.minimize)\n",
    "        prob.variables.add(obj=my_obj, lb=my_lb, ub=my_ub, types=my_ctype)\n",
    "\n",
    "        prob.set_log_stream(None)\n",
    "        prob.set_error_stream(None)\n",
    "        prob.set_warning_stream(None)\n",
    "        prob.set_results_stream(None)\n",
    "\n",
    "        rows = []\n",
    "        for ii in range(0, n):\n",
    "            col = [x for x in range(0 + n * ii, n + n * ii)]\n",
    "            coef = [1 for x in range(0, n)]\n",
    "            rows.append([col, coef])\n",
    "\n",
    "        for ii in range(0, n):\n",
    "            col = [x for x in range(0 + ii, n**2, n)]\n",
    "            coef = [1 for x in range(0, n)]\n",
    "\n",
    "            rows.append([col, coef])\n",
    "\n",
    "        # Sub-tour elimination constraints:\n",
    "        for ii in range(0, n):\n",
    "            for jj in range(0, n):\n",
    "                if (ii != jj) and (ii * jj > 0):\n",
    "\n",
    "                    col = [ii + (jj * n), n**2 + ii - 1, n**2 + jj - 1]\n",
    "                    coef = [1, 1, -1]\n",
    "\n",
    "                    rows.append([col, coef])\n",
    "\n",
    "        for ii in range(0, n):\n",
    "            col = [(ii) * (n + 1)]\n",
    "            coef = [1]\n",
    "            rows.append([col, coef])\n",
    "\n",
    "        prob.linear_constraints.add(lin_expr=rows, senses=my_sense, rhs=my_rhs)\n"
   ]
  },
  {
   "cell_type": "code",
   "execution_count": null,
   "metadata": {},
   "outputs": [],
   "source": [
    "# Instantiate the classical optimizer class\n",
    "classical_optimizer = ClassicalOptimizer(instance, n, K)"
   ]
  },
  {
   "cell_type": "code",
   "execution_count": null,
   "metadata": {},
   "outputs": [],
   "source": [
    "# Print number of feasible solutions\n",
    "print(\"Number of feasible solutions = \" + str(classical_optimizer.compute_allowed_combinations()))\n"
   ]
  },
  {
   "cell_type": "code",
   "execution_count": null,
   "metadata": {},
   "outputs": [],
   "source": [
    "# Solve the problem in a classical fashion via CPLEX\n",
    "x = None\n",
    "z = None\n",
    "try:\n",
    "    x, classical_cost = classical_optimizer.cplex_solution()\n",
    "    # Put the solution in the z variable\n",
    "    z = [x[ii] for ii in range(n**2) if ii // n != ii % n]\n",
    "    # Print the solution\n",
    "    print(z)\n",
    "except:\n",
    "    print(\"CPLEX may be missing.\")\n"
   ]
  },
  {
   "cell_type": "code",
   "execution_count": null,
   "metadata": {},
   "outputs": [],
   "source": [
    "m = folium.Map(location=[39.487660, -97.594333], zoom_start=0)\n",
    "marker_icon1 = folium.Icon(color = \"red\")\n",
    "for i in range(len(lat)):\n",
    "    if (i == 0):\n",
    "        folium.Marker(location=[lat[i], lng[i]], tooltip=f\"Location: {loc[i]}, Order: {i}\", icon=marker_icon1).add_to(m)\n",
    "    else:\n",
    "        folium.Marker(location=[lat[i], lng[i]], tooltip=f\"Location: {loc[i]}, Order: {i}\").add_to(m)\n",
    "\n",
    "for ii in range(0, n**2):\n",
    "    if x[ii] > 0:\n",
    "        ix = ii // n\n",
    "        iy = ii % n\n",
    "        \n",
    "        folium.PolyLine([(lat[ix], lng[ix]), (lat[iy], lng[iy])], color=\"blue\").add_to(m)\n",
    "\n",
    "m"
   ]
  },
  {
   "cell_type": "markdown",
   "metadata": {},
   "source": [
    "## Quantum Solution"
   ]
  },
  {
   "cell_type": "code",
   "execution_count": null,
   "metadata": {},
   "outputs": [],
   "source": [
    "from qiskit_optimization import QuadraticProgram\n",
    "from qiskit_optimization.algorithms import MinimumEigenOptimizer\n",
    "from qiskit.algorithms.minimum_eigensolvers import QAOA, NumPyMinimumEigensolver"
   ]
  },
  {
   "cell_type": "code",
   "execution_count": null,
   "metadata": {},
   "outputs": [],
   "source": [
    "class QuantumOptimizer:\n",
    "    def __init__(self, instance, n, K):\n",
    "\n",
    "        self.instance = instance\n",
    "        self.n = n\n",
    "        self.K = K\n",
    "\n",
    "    def binary_representation(self, x_sol=0):\n",
    "\n",
    "        instance = self.instance\n",
    "        n = self.n\n",
    "        K = self.K\n",
    "\n",
    "        A = np.max(instance) * 100  # A parameter of cost function\n",
    "\n",
    "        # Determine the weights w\n",
    "        instance_vec = instance.reshape(n**2)\n",
    "        w_list = [instance_vec[x] for x in range(n**2) if instance_vec[x] > 0]\n",
    "        w = np.zeros(n * (n - 1))\n",
    "        for ii in range(len(w_list)):\n",
    "            w[ii] = w_list[ii]\n",
    "\n",
    "        # Some variables I will use\n",
    "        Id_n = np.eye(n)\n",
    "        Im_n_1 = np.ones([n - 1, n - 1])\n",
    "        Iv_n_1 = np.ones(n)\n",
    "        Iv_n_1[0] = 0\n",
    "        Iv_n = np.ones(n - 1)\n",
    "        neg_Iv_n_1 = np.ones(n) - Iv_n_1\n",
    "\n",
    "        v = np.zeros([n, n * (n - 1)])\n",
    "        for ii in range(n):\n",
    "            count = ii - 1\n",
    "            for jj in range(n * (n - 1)):\n",
    "\n",
    "                if jj // (n - 1) == ii:\n",
    "                    count = ii\n",
    "\n",
    "                if jj // (n - 1) != ii and jj % (n - 1) == count:\n",
    "                    v[ii][jj] = 1.0\n",
    "\n",
    "        vn = np.sum(v[1:], axis=0)\n",
    "\n",
    "        # Q defines the interactions between variables\n",
    "        Q = A * (np.kron(Id_n, Im_n_1) + np.dot(v.T, v))\n",
    "\n",
    "        # g defines the contribution from the individual variables\n",
    "        g = (\n",
    "            w\n",
    "            - 2 * A * (np.kron(Iv_n_1, Iv_n) + vn.T)\n",
    "            - 2 * A * K * (np.kron(neg_Iv_n_1, Iv_n) + v[0].T)\n",
    "        )\n",
    "\n",
    "        # c is the constant offset\n",
    "        c = 2 * A * (n - 1) + 2 * A * (K**2)\n",
    "\n",
    "        try:\n",
    "            max(x_sol)\n",
    "            # Evaluates the cost distance from a binary representation of a path\n",
    "            fun = (\n",
    "                lambda x: np.dot(np.around(x), np.dot(Q, np.around(x)))\n",
    "                + np.dot(g, np.around(x))\n",
    "                + c\n",
    "            )\n",
    "            cost = fun(x_sol)\n",
    "        except:\n",
    "            cost = 0\n",
    "\n",
    "        return Q, g, c, cost\n",
    "\n",
    "    def construct_problem(self, Q, g, c) -> QuadraticProgram:\n",
    "        qp = QuadraticProgram()\n",
    "        for i in range(n * (n - 1)):\n",
    "            qp.binary_var(str(i))\n",
    "        qp.objective.quadratic = Q\n",
    "        qp.objective.linear = g\n",
    "        qp.objective.constant = c\n",
    "        return qp\n",
    "\n",
    "    def solve_problem(self, qp):\n",
    "        algorithm_globals.random_seed = 10598\n",
    "        #vqe = SamplingVQE(sampler=Sampler(), optimizer=SPSA(), ansatz=RealAmplitudes())\n",
    "        #optimizer = MinimumEigenOptimizer(min_eigen_solver=vqe)\n",
    "\n",
    "        meo = MinimumEigenOptimizer(min_eigen_solver=NumPyMinimumEigensolver())\n",
    "        result = meo.solve(qp)\n",
    "\n",
    "        # compute cost of the obtained result\n",
    "        _, _, _, level = self.binary_representation(x_sol=result.x)\n",
    "        return result.x, level"
   ]
  },
  {
   "cell_type": "code",
   "execution_count": null,
   "metadata": {},
   "outputs": [],
   "source": [
    "# Instantiate the quantum optimizer class with parameters:\n",
    "quantum_optimizer = QuantumOptimizer(instance, n, K)"
   ]
  },
  {
   "cell_type": "code",
   "execution_count": null,
   "metadata": {},
   "outputs": [],
   "source": [
    "# Check if the binary representation is correct\n",
    "try:\n",
    "    if z is not None:\n",
    "        Q, g, c, binary_cost = quantum_optimizer.binary_representation(x_sol=z)\n",
    "        print(\"Binary cost:\", binary_cost, \"classical cost:\", classical_cost)\n",
    "        if np.abs(binary_cost - classical_cost) < 0.01:\n",
    "            print(\"Binary formulation is correct\")\n",
    "        else:\n",
    "            print(\"Error in the binary formulation\")\n",
    "    else:\n",
    "        print(\"Could not verify the correctness, due to CPLEX solution being unavailable.\")\n",
    "        Q, g, c, binary_cost = quantum_optimizer.binary_representation()\n",
    "        print(\"Binary cost:\", binary_cost)\n",
    "except NameError as e:\n",
    "    print(\"Warning: Please run the cells above first.\")\n",
    "    print(e)"
   ]
  },
  {
   "cell_type": "code",
   "execution_count": null,
   "metadata": {},
   "outputs": [],
   "source": [
    "qp = quantum_optimizer.construct_problem(Q, g, c)\n",
    "print(qp)"
   ]
  },
  {
   "cell_type": "code",
   "execution_count": null,
   "metadata": {},
   "outputs": [],
   "source": [
    "#quantum_solution, quantum_cost = quantum_optimizer.solve_problem(qp)\n",
    "quantum_solution, quantum_cost = quantum_optimizer.solve_problem(qp)\n",
    "\n",
    "print(quantum_solution, quantum_cost)"
   ]
  },
  {
   "cell_type": "markdown",
   "metadata": {},
   "source": [
    "## Visualize Results"
   ]
  },
  {
   "cell_type": "markdown",
   "metadata": {},
   "source": [
    "### Classical Result:"
   ]
  },
  {
   "cell_type": "code",
   "execution_count": null,
   "metadata": {},
   "outputs": [],
   "source": [
    "print(classical_cost)"
   ]
  },
  {
   "cell_type": "code",
   "execution_count": null,
   "metadata": {},
   "outputs": [],
   "source": [
    "m = folium.Map(location=[39.487660, -97.594333], zoom_start=0)\n",
    "marker_icon1 = folium.Icon(color = \"red\")\n",
    "for i in range(len(lat)):\n",
    "    if (i == 0):\n",
    "        folium.Marker(location=[lat[i], lng[i]], tooltip=f\"Location: {loc[i]}, Order: {i}\", icon=marker_icon1).add_to(m)\n",
    "    else:\n",
    "        folium.Marker(location=[lat[i], lng[i]], tooltip=f\"Location: {loc[i]}, Order: {i}\").add_to(m)\n",
    "\n",
    "for ii in range(0, n**2):\n",
    "    if x[ii] > 0:\n",
    "        ix = ii // n\n",
    "        iy = ii % n\n",
    "        \n",
    "        folium.PolyLine([(lat[ix], lng[ix]), (lat[iy], lng[iy])], color=\"blue\").add_to(m)\n",
    "\n",
    "m"
   ]
  },
  {
   "cell_type": "markdown",
   "metadata": {},
   "source": [
    "\n",
    "### Quantum Result: "
   ]
  },
  {
   "cell_type": "code",
   "execution_count": null,
   "metadata": {},
   "outputs": [],
   "source": [
    "print(quantum_cost)"
   ]
  },
  {
   "cell_type": "code",
   "execution_count": null,
   "metadata": {},
   "outputs": [],
   "source": [
    "x_quantum = np.zeros(n**2)\n",
    "kk = 0\n",
    "\n",
    "for ii in range(n**2):\n",
    "    if ii // n != ii % n:\n",
    "        x_quantum[ii] = quantum_solution[kk]\n",
    "        kk += 1\n",
    "\n",
    "m = folium.Map(location=[39.487660, -97.594333], zoom_start=0)\n",
    "marker_icon1 = folium.Icon(color = \"red\")\n",
    "for i in range(len(lat)):\n",
    "    if (i == 0):\n",
    "        folium.Marker(location=[lat[i], lng[i]], tooltip=f\"Location: {loc[i]}, Order: {i}\", icon=marker_icon1).add_to(m)\n",
    "    else:\n",
    "        folium.Marker(location=[lat[i], lng[i]], tooltip=f\"Location: {loc[i]}, Order: {i}\").add_to(m)\n",
    "\n",
    "for ii in range(0, n**2):\n",
    "    if x_quantum[ii] > 0:\n",
    "        ix = ii // n\n",
    "        iy = ii % n\n",
    "        \n",
    "        folium.PolyLine([(lat[ix], lng[ix]), (lat[iy], lng[iy])], color=\"blue\").add_to(m)\n",
    "\n",
    "m"
   ]
  },
  {
   "cell_type": "markdown",
   "metadata": {},
   "source": [
    "## Results"
   ]
  },
  {
   "cell_type": "code",
   "execution_count": null,
   "metadata": {},
   "outputs": [],
   "source": [
    "algorithms = (\"Classic\", \"Quantum\")\n",
    "data = {\n",
    "    'K = 1': (2249.2068134000006, 1706.2245994000696),\n",
    "    'k = 2': (2771.940853740001, 1845.127222779207),\n",
    "    'K = 3': (3981.1556002800016, 3981.155600280501),\n",
    "}\n",
    "\n",
    "x = np.arange(len(algorithms))  # the label locations\n",
    "width = 0.25  # the width of the bars\n",
    "multiplier = 0\n",
    "\n",
    "fig, ax = plt.subplots(layout='constrained')\n",
    "\n",
    "for attribute, measurement in data.items():\n",
    "    offset = width * multiplier\n",
    "    rects = ax.bar(x + offset, measurement, width, label=attribute)\n",
    "    ax.bar_label(rects, padding=3)\n",
    "    multiplier += 1\n",
    "\n",
    "# Add some text for labels, title and custom x-axis tick labels, etc.\n",
    "ax.set_ylabel('Length (mm)')\n",
    "ax.set_title('Comparision of Quantum and Classical Cost')\n",
    "ax.set_xticks(x + width, algorithms)\n",
    "ax.legend(loc='upper left', ncols=3)\n",
    "ax.set_ylim(0, 5000)\n",
    "\n",
    "plt.show()"
   ]
  }
 ],
 "metadata": {
  "kernelspec": {
   "display_name": "Python 3 (ipykernel)",
   "language": "python",
   "name": "python3"
  },
  "language_info": {
   "codemirror_mode": {
    "name": "ipython",
    "version": 3
   },
   "file_extension": ".py",
   "mimetype": "text/x-python",
   "name": "python",
   "nbconvert_exporter": "python",
   "pygments_lexer": "ipython3",
   "version": "3.10.9"
  }
 },
 "nbformat": 4,
 "nbformat_minor": 2
}
